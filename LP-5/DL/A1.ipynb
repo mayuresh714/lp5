{
 "cells": [
  {
   "attachments": {},
   "cell_type": "markdown",
   "id": "c32d0a4d",
   "metadata": {},
   "source": [
    "Linear regression by using Deep Neural network: Implement Boston housing price prediction problem by Linear regression using Deep Neural network. Use Boston House price prediction dataset."
   ]
  },
  {
   "cell_type": "code",
   "execution_count": null,
   "id": "e63642dd",
   "metadata": {},
   "outputs": [
    {
     "ename": "",
     "evalue": "",
     "output_type": "error",
     "traceback": [
      "\u001b[1;31mRunning cells with 'c:\\Users\\Sunit\\AppData\\Local\\Programs\\Python\\Python310\\python.exe' requires the ipykernel package.\n",
      "\u001b[1;31mRun the following command to install 'ipykernel' into the Python environment. \n",
      "\u001b[1;31mCommand: 'c:/Users/Sunit/AppData/Local/Programs/Python/Python310/python.exe -m pip install ipykernel -U --user --force-reinstall'"
     ]
    }
   ],
   "source": [
    "import pandas as pd\n",
    "import numpy as np\n",
    "\n",
    "column_names = ['CRIM', 'ZN', 'INDUS', 'CHAS', 'NOX', 'RM', 'AGE', 'DIS', 'RAD', 'TAX', 'PTRATIO', 'B', 'LSTAT', 'MEDV']\n",
    "df = pd.read_csv('housing.csv', names=column_names,header=None,delimiter=r\"\\s+\")\n",
    "#Median value of homes in $1000s\n",
    "\n",
    "df.head(n=10)"
   ]
  },
  {
   "cell_type": "code",
   "execution_count": 10,
   "id": "754252cf",
   "metadata": {},
   "outputs": [],
   "source": [
    "from sklearn.model_selection import train_test_split\n",
    "\n",
    "X = df.loc[:, df.columns != 'MEDV']\n",
    "y = df.loc[:, df.columns == 'MEDV']\n",
    "X_train, X_test, y_train, y_test = train_test_split(X, y, test_size=0.3, random_state=123)"
   ]
  },
  {
   "cell_type": "code",
   "execution_count": 11,
   "id": "88d6ddd3",
   "metadata": {},
   "outputs": [],
   "source": [
    "# Performing Normalization\n",
    "\n",
    "mean = X_train.mean(axis=0)\n",
    "std = X_train.std(axis=0)\n",
    "\n",
    "X_train = (X_train - mean) / std\n",
    "X_test = (X_test - mean) / std"
   ]
  },
  {
   "cell_type": "code",
   "execution_count": 12,
   "id": "9c5b3939",
   "metadata": {},
   "outputs": [
    {
     "name": "stdout",
     "output_type": "stream",
     "text": [
      "Model: \"sequential\"\n",
      "_________________________________________________________________\n",
      " Layer (type)                Output Shape              Param #   \n",
      "=================================================================\n",
      " dense_1 (Dense)             (None, 128)               1792      \n",
      "                                                                 \n",
      " dense_2 (Dense)             (None, 64)                8256      \n",
      "                                                                 \n",
      " dense_output (Dense)        (None, 1)                 65        \n",
      "                                                                 \n",
      "=================================================================\n",
      "Total params: 10,113\n",
      "Trainable params: 10,113\n",
      "Non-trainable params: 0\n",
      "_________________________________________________________________\n"
     ]
    }
   ],
   "source": [
    "#Building Model\n",
    "from keras.models import Sequential\n",
    "from keras.layers import Dense\n",
    "\n",
    "model = Sequential()\n",
    "\n",
    "model.add(Dense(128, input_shape=(13, ), activation='relu', name='dense_1'))\n",
    "model.add(Dense(64, activation='relu', name='dense_2'))\n",
    "model.add(Dense(1, activation='linear', name='dense_output'))\n",
    "\n",
    "model.compile(optimizer='adam', loss='mse', metrics=['mae'])\n",
    "model.summary()"
   ]
  },
  {
   "cell_type": "code",
   "execution_count": 13,
   "id": "846550cc",
   "metadata": {
    "scrolled": false
   },
   "outputs": [
    {
     "name": "stdout",
     "output_type": "stream",
     "text": [
      "Epoch 1/100\n",
      "11/11 [==============================] - 1s 29ms/step - loss: 575.1503 - mae: 22.0850 - val_loss: 580.9819 - val_mae: 22.2004\n",
      "Epoch 2/100\n",
      "11/11 [==============================] - 0s 7ms/step - loss: 515.6472 - mae: 20.5833 - val_loss: 515.8021 - val_mae: 20.7238\n",
      "Epoch 3/100\n",
      "11/11 [==============================] - 0s 6ms/step - loss: 440.9190 - mae: 18.6676 - val_loss: 428.4550 - val_mae: 18.5881\n",
      "Epoch 4/100\n",
      "11/11 [==============================] - 0s 8ms/step - loss: 343.7835 - mae: 16.1407 - val_loss: 317.7600 - val_mae: 15.6933\n",
      "Epoch 5/100\n",
      "11/11 [==============================] - 0s 5ms/step - loss: 232.4357 - mae: 13.0543 - val_loss: 202.2115 - val_mae: 12.2333\n",
      "Epoch 6/100\n",
      "11/11 [==============================] - 0s 7ms/step - loss: 134.5911 - mae: 9.6374 - val_loss: 112.2671 - val_mae: 9.1037\n",
      "Epoch 7/100\n",
      "11/11 [==============================] - 0s 9ms/step - loss: 80.8657 - mae: 7.1550 - val_loss: 66.9125 - val_mae: 6.5834\n",
      "Epoch 8/100\n",
      "11/11 [==============================] - 0s 9ms/step - loss: 57.2117 - mae: 5.7997 - val_loss: 45.9047 - val_mae: 5.4252\n",
      "Epoch 9/100\n",
      "11/11 [==============================] - 0s 5ms/step - loss: 42.0288 - mae: 4.9218 - val_loss: 32.9312 - val_mae: 4.6568\n",
      "Epoch 10/100\n",
      "11/11 [==============================] - 0s 6ms/step - loss: 31.8175 - mae: 4.2090 - val_loss: 25.0141 - val_mae: 4.0141\n",
      "Epoch 11/100\n",
      "11/11 [==============================] - 0s 9ms/step - loss: 26.6455 - mae: 3.8098 - val_loss: 19.7324 - val_mae: 3.5228\n",
      "Epoch 12/100\n",
      "11/11 [==============================] - 0s 8ms/step - loss: 23.5990 - mae: 3.5872 - val_loss: 17.4136 - val_mae: 3.1527\n",
      "Epoch 13/100\n",
      "11/11 [==============================] - 0s 8ms/step - loss: 21.7418 - mae: 3.4281 - val_loss: 15.7955 - val_mae: 2.9051\n",
      "Epoch 14/100\n",
      "11/11 [==============================] - 0s 7ms/step - loss: 20.4524 - mae: 3.3020 - val_loss: 14.7869 - val_mae: 2.7071\n",
      "Epoch 15/100\n",
      "11/11 [==============================] - 0s 7ms/step - loss: 19.3612 - mae: 3.2112 - val_loss: 13.8487 - val_mae: 2.6565\n",
      "Epoch 16/100\n",
      "11/11 [==============================] - 0s 7ms/step - loss: 18.5678 - mae: 3.1187 - val_loss: 13.1103 - val_mae: 2.5928\n",
      "Epoch 17/100\n",
      "11/11 [==============================] - 0s 6ms/step - loss: 17.7693 - mae: 3.0545 - val_loss: 12.5005 - val_mae: 2.5822\n",
      "Epoch 18/100\n",
      "11/11 [==============================] - 0s 6ms/step - loss: 17.1358 - mae: 2.9884 - val_loss: 11.7113 - val_mae: 2.5114\n",
      "Epoch 19/100\n",
      "11/11 [==============================] - 0s 9ms/step - loss: 16.4353 - mae: 2.9355 - val_loss: 11.0060 - val_mae: 2.4665\n",
      "Epoch 20/100\n",
      "11/11 [==============================] - 0s 8ms/step - loss: 15.8798 - mae: 2.9058 - val_loss: 10.5409 - val_mae: 2.4368\n",
      "Epoch 21/100\n",
      "11/11 [==============================] - 0s 7ms/step - loss: 15.3189 - mae: 2.8584 - val_loss: 10.0501 - val_mae: 2.3705\n",
      "Epoch 22/100\n",
      "11/11 [==============================] - 0s 6ms/step - loss: 14.8059 - mae: 2.7911 - val_loss: 9.3242 - val_mae: 2.3045\n",
      "Epoch 23/100\n",
      "11/11 [==============================] - 0s 5ms/step - loss: 14.3885 - mae: 2.7386 - val_loss: 8.9889 - val_mae: 2.2636\n",
      "Epoch 24/100\n",
      "11/11 [==============================] - 0s 5ms/step - loss: 13.9043 - mae: 2.6911 - val_loss: 8.6547 - val_mae: 2.2064\n",
      "Epoch 25/100\n",
      "11/11 [==============================] - 0s 5ms/step - loss: 13.5889 - mae: 2.6587 - val_loss: 8.2213 - val_mae: 2.1714\n",
      "Epoch 26/100\n",
      "11/11 [==============================] - 0s 4ms/step - loss: 13.1192 - mae: 2.6254 - val_loss: 7.9249 - val_mae: 2.1386\n",
      "Epoch 27/100\n",
      "11/11 [==============================] - 0s 5ms/step - loss: 12.7959 - mae: 2.5931 - val_loss: 7.5650 - val_mae: 2.1024\n",
      "Epoch 28/100\n",
      "11/11 [==============================] - 0s 5ms/step - loss: 12.3781 - mae: 2.5492 - val_loss: 7.3278 - val_mae: 2.0953\n",
      "Epoch 29/100\n",
      "11/11 [==============================] - 0s 5ms/step - loss: 12.1034 - mae: 2.5247 - val_loss: 7.0783 - val_mae: 2.0644\n",
      "Epoch 30/100\n",
      "11/11 [==============================] - 0s 6ms/step - loss: 11.7997 - mae: 2.4695 - val_loss: 6.8500 - val_mae: 2.0935\n",
      "Epoch 31/100\n",
      "11/11 [==============================] - 0s 5ms/step - loss: 11.6640 - mae: 2.4524 - val_loss: 6.6882 - val_mae: 2.1052\n",
      "Epoch 32/100\n",
      "11/11 [==============================] - 0s 8ms/step - loss: 11.3223 - mae: 2.4261 - val_loss: 6.7391 - val_mae: 2.1609\n",
      "Epoch 33/100\n",
      "11/11 [==============================] - 0s 9ms/step - loss: 11.0032 - mae: 2.3864 - val_loss: 6.1000 - val_mae: 1.9936\n",
      "Epoch 34/100\n",
      "11/11 [==============================] - 0s 9ms/step - loss: 10.8137 - mae: 2.3480 - val_loss: 6.1656 - val_mae: 2.0577\n",
      "Epoch 35/100\n",
      "11/11 [==============================] - 0s 8ms/step - loss: 10.6206 - mae: 2.3328 - val_loss: 6.1992 - val_mae: 2.0936\n",
      "Epoch 36/100\n",
      "11/11 [==============================] - 0s 5ms/step - loss: 10.4367 - mae: 2.3318 - val_loss: 6.4976 - val_mae: 2.1192\n",
      "Epoch 37/100\n",
      "11/11 [==============================] - 0s 6ms/step - loss: 10.2884 - mae: 2.3020 - val_loss: 5.8345 - val_mae: 1.9707\n",
      "Epoch 38/100\n",
      "11/11 [==============================] - 0s 5ms/step - loss: 10.0039 - mae: 2.2552 - val_loss: 6.0343 - val_mae: 2.0472\n",
      "Epoch 39/100\n",
      "11/11 [==============================] - 0s 6ms/step - loss: 9.9013 - mae: 2.2485 - val_loss: 5.9788 - val_mae: 2.0222\n",
      "Epoch 40/100\n",
      "11/11 [==============================] - 0s 5ms/step - loss: 9.8250 - mae: 2.2445 - val_loss: 5.9550 - val_mae: 2.0169\n",
      "Epoch 41/100\n",
      "11/11 [==============================] - 0s 6ms/step - loss: 9.8334 - mae: 2.2058 - val_loss: 5.5614 - val_mae: 1.9703\n",
      "Epoch 42/100\n",
      "11/11 [==============================] - 0s 5ms/step - loss: 9.5814 - mae: 2.2207 - val_loss: 6.6987 - val_mae: 2.1491\n",
      "Epoch 43/100\n",
      "11/11 [==============================] - 0s 5ms/step - loss: 9.3628 - mae: 2.1659 - val_loss: 5.8731 - val_mae: 2.0181\n",
      "Epoch 44/100\n",
      "11/11 [==============================] - 0s 7ms/step - loss: 9.2295 - mae: 2.1409 - val_loss: 6.3484 - val_mae: 2.0837\n",
      "Epoch 45/100\n",
      "11/11 [==============================] - 0s 5ms/step - loss: 9.1903 - mae: 2.1682 - val_loss: 6.3860 - val_mae: 2.0537\n",
      "Epoch 46/100\n",
      "11/11 [==============================] - 0s 6ms/step - loss: 8.9972 - mae: 2.1260 - val_loss: 6.0994 - val_mae: 1.9907\n",
      "Epoch 47/100\n",
      "11/11 [==============================] - 0s 5ms/step - loss: 8.8566 - mae: 2.1080 - val_loss: 6.3877 - val_mae: 2.0300\n",
      "Epoch 48/100\n",
      "11/11 [==============================] - 0s 8ms/step - loss: 8.8867 - mae: 2.1128 - val_loss: 6.4241 - val_mae: 2.0241\n",
      "Epoch 49/100\n",
      "11/11 [==============================] - 0s 6ms/step - loss: 8.6237 - mae: 2.0800 - val_loss: 6.4111 - val_mae: 2.0257\n",
      "Epoch 50/100\n",
      "11/11 [==============================] - 0s 7ms/step - loss: 8.6947 - mae: 2.0982 - val_loss: 6.3636 - val_mae: 1.9903\n",
      "Epoch 51/100\n",
      "11/11 [==============================] - 0s 5ms/step - loss: 8.7018 - mae: 2.0715 - val_loss: 6.5243 - val_mae: 1.9873\n",
      "Epoch 52/100\n",
      "11/11 [==============================] - 0s 6ms/step - loss: 8.4869 - mae: 2.0665 - val_loss: 6.5574 - val_mae: 2.0232\n",
      "Epoch 53/100\n",
      "11/11 [==============================] - 0s 6ms/step - loss: 8.4008 - mae: 2.0626 - val_loss: 6.6399 - val_mae: 1.9930\n",
      "Epoch 54/100\n",
      "11/11 [==============================] - 0s 5ms/step - loss: 8.2476 - mae: 2.0299 - val_loss: 6.3618 - val_mae: 1.9442\n",
      "Epoch 55/100\n",
      "11/11 [==============================] - 0s 5ms/step - loss: 8.1948 - mae: 2.0183 - val_loss: 6.5698 - val_mae: 1.9795\n",
      "Epoch 56/100\n",
      "11/11 [==============================] - 0s 5ms/step - loss: 8.1486 - mae: 2.0115 - val_loss: 6.6261 - val_mae: 1.9734\n",
      "Epoch 57/100\n",
      "11/11 [==============================] - 0s 8ms/step - loss: 8.0897 - mae: 2.0147 - val_loss: 7.3446 - val_mae: 2.0791\n",
      "Epoch 58/100\n",
      "11/11 [==============================] - 0s 5ms/step - loss: 7.9720 - mae: 2.0089 - val_loss: 6.6096 - val_mae: 1.9302\n",
      "Epoch 59/100\n",
      "11/11 [==============================] - 0s 7ms/step - loss: 8.0220 - mae: 1.9986 - val_loss: 7.1353 - val_mae: 1.9669\n",
      "Epoch 60/100\n",
      "11/11 [==============================] - 0s 5ms/step - loss: 7.9340 - mae: 1.9847 - val_loss: 7.3340 - val_mae: 1.9789\n",
      "Epoch 61/100\n",
      "11/11 [==============================] - 0s 4ms/step - loss: 7.8683 - mae: 2.0010 - val_loss: 7.1765 - val_mae: 1.9591\n",
      "Epoch 62/100\n",
      "11/11 [==============================] - 0s 5ms/step - loss: 7.8653 - mae: 1.9861 - val_loss: 7.2041 - val_mae: 1.9712\n",
      "Epoch 63/100\n",
      "11/11 [==============================] - 0s 6ms/step - loss: 7.7189 - mae: 1.9768 - val_loss: 7.6963 - val_mae: 2.0026\n",
      "Epoch 64/100\n",
      "11/11 [==============================] - 0s 6ms/step - loss: 7.7654 - mae: 1.9923 - val_loss: 7.1898 - val_mae: 1.9473\n",
      "Epoch 65/100\n",
      "11/11 [==============================] - 0s 5ms/step - loss: 7.6763 - mae: 1.9752 - val_loss: 7.0238 - val_mae: 1.9087\n",
      "Epoch 66/100\n",
      "11/11 [==============================] - 0s 5ms/step - loss: 7.6948 - mae: 1.9636 - val_loss: 7.2910 - val_mae: 1.9770\n",
      "Epoch 67/100\n",
      "11/11 [==============================] - 0s 6ms/step - loss: 7.5475 - mae: 1.9473 - val_loss: 7.4566 - val_mae: 1.9746\n",
      "Epoch 68/100\n",
      "11/11 [==============================] - 0s 5ms/step - loss: 7.6403 - mae: 1.9597 - val_loss: 7.1861 - val_mae: 1.9350\n",
      "Epoch 69/100\n",
      "11/11 [==============================] - 0s 6ms/step - loss: 7.7624 - mae: 1.9993 - val_loss: 8.1885 - val_mae: 2.0815\n",
      "Epoch 70/100\n",
      "11/11 [==============================] - 0s 6ms/step - loss: 7.4411 - mae: 1.9529 - val_loss: 7.1741 - val_mae: 1.8872\n",
      "Epoch 71/100\n",
      "11/11 [==============================] - 0s 7ms/step - loss: 7.3235 - mae: 1.9327 - val_loss: 8.3204 - val_mae: 2.0419\n",
      "Epoch 72/100\n",
      "11/11 [==============================] - 0s 7ms/step - loss: 7.2149 - mae: 1.9181 - val_loss: 7.2221 - val_mae: 1.8888\n",
      "Epoch 73/100\n",
      "11/11 [==============================] - 0s 6ms/step - loss: 7.2235 - mae: 1.9100 - val_loss: 7.7107 - val_mae: 1.9238\n",
      "Epoch 74/100\n",
      "11/11 [==============================] - 0s 4ms/step - loss: 7.2142 - mae: 1.9178 - val_loss: 8.1574 - val_mae: 1.9851\n",
      "Epoch 75/100\n",
      "11/11 [==============================] - 0s 7ms/step - loss: 7.1640 - mae: 1.9164 - val_loss: 7.3458 - val_mae: 1.8950\n",
      "Epoch 76/100\n",
      "11/11 [==============================] - 0s 9ms/step - loss: 7.0901 - mae: 1.8978 - val_loss: 7.8107 - val_mae: 1.9580\n",
      "Epoch 77/100\n",
      "11/11 [==============================] - 0s 10ms/step - loss: 7.0586 - mae: 1.8920 - val_loss: 7.9962 - val_mae: 1.9824\n",
      "Epoch 78/100\n",
      "11/11 [==============================] - 0s 9ms/step - loss: 7.1149 - mae: 1.9213 - val_loss: 8.7170 - val_mae: 2.0402\n",
      "Epoch 79/100\n",
      "11/11 [==============================] - 0s 6ms/step - loss: 6.9188 - mae: 1.8671 - val_loss: 7.5303 - val_mae: 1.8810\n",
      "Epoch 80/100\n",
      "11/11 [==============================] - 0s 6ms/step - loss: 6.9475 - mae: 1.8696 - val_loss: 8.3694 - val_mae: 1.9630\n",
      "Epoch 81/100\n",
      "11/11 [==============================] - 0s 9ms/step - loss: 6.8602 - mae: 1.8781 - val_loss: 7.8081 - val_mae: 1.9247\n",
      "Epoch 82/100\n",
      "11/11 [==============================] - 0s 17ms/step - loss: 6.9742 - mae: 1.8891 - val_loss: 8.2188 - val_mae: 1.9842\n",
      "Epoch 83/100\n",
      "11/11 [==============================] - 0s 11ms/step - loss: 6.8265 - mae: 1.8779 - val_loss: 8.3456 - val_mae: 1.9894\n",
      "Epoch 84/100\n",
      "11/11 [==============================] - 0s 7ms/step - loss: 6.8235 - mae: 1.8604 - val_loss: 7.7782 - val_mae: 1.9139\n",
      "Epoch 85/100\n",
      "11/11 [==============================] - 0s 5ms/step - loss: 6.7456 - mae: 1.8583 - val_loss: 8.2754 - val_mae: 1.9686\n",
      "Epoch 86/100\n",
      "11/11 [==============================] - 0s 5ms/step - loss: 6.6539 - mae: 1.8357 - val_loss: 7.9483 - val_mae: 1.8769\n",
      "Epoch 87/100\n",
      "11/11 [==============================] - 0s 5ms/step - loss: 6.6891 - mae: 1.8575 - val_loss: 8.5327 - val_mae: 1.9426\n",
      "Epoch 88/100\n",
      "11/11 [==============================] - 0s 5ms/step - loss: 6.7058 - mae: 1.8617 - val_loss: 7.8287 - val_mae: 1.9087\n",
      "Epoch 89/100\n",
      "11/11 [==============================] - 0s 4ms/step - loss: 6.6809 - mae: 1.8423 - val_loss: 8.0164 - val_mae: 1.8870\n",
      "Epoch 90/100\n",
      "11/11 [==============================] - 0s 4ms/step - loss: 6.5585 - mae: 1.8458 - val_loss: 9.1046 - val_mae: 2.1030\n",
      "Epoch 91/100\n",
      "11/11 [==============================] - 0s 4ms/step - loss: 6.5322 - mae: 1.8331 - val_loss: 8.0513 - val_mae: 1.9372\n",
      "Epoch 92/100\n",
      "11/11 [==============================] - 0s 5ms/step - loss: 6.4873 - mae: 1.8156 - val_loss: 8.4462 - val_mae: 1.9748\n",
      "Epoch 93/100\n",
      "11/11 [==============================] - 0s 5ms/step - loss: 6.5496 - mae: 1.8253 - val_loss: 8.6512 - val_mae: 2.0073\n",
      "Epoch 94/100\n",
      "11/11 [==============================] - 0s 4ms/step - loss: 6.4787 - mae: 1.8189 - val_loss: 8.4269 - val_mae: 1.9589\n",
      "Epoch 95/100\n",
      "11/11 [==============================] - 0s 5ms/step - loss: 6.4848 - mae: 1.8198 - val_loss: 8.1922 - val_mae: 1.9297\n",
      "Epoch 96/100\n",
      "11/11 [==============================] - 0s 6ms/step - loss: 6.3742 - mae: 1.8090 - val_loss: 8.2022 - val_mae: 1.9038\n",
      "Epoch 97/100\n",
      "11/11 [==============================] - 0s 6ms/step - loss: 6.3815 - mae: 1.8137 - val_loss: 8.6672 - val_mae: 1.9734\n",
      "Epoch 98/100\n",
      "11/11 [==============================] - 0s 5ms/step - loss: 6.3539 - mae: 1.8212 - val_loss: 7.5509 - val_mae: 1.7891\n",
      "Epoch 99/100\n",
      "11/11 [==============================] - 0s 6ms/step - loss: 6.4628 - mae: 1.8252 - val_loss: 9.6555 - val_mae: 2.0935\n",
      "Epoch 100/100\n",
      "11/11 [==============================] - 0s 11ms/step - loss: 6.5178 - mae: 1.8349 - val_loss: 7.6359 - val_mae: 1.8269\n"
     ]
    }
   ],
   "source": [
    "#Train out model\n",
    "history = model.fit(X_train, y_train, epochs=100, validation_split=0.05)"
   ]
  },
  {
   "cell_type": "code",
   "execution_count": 14,
   "id": "9a689def",
   "metadata": {},
   "outputs": [
    {
     "data": {
      "image/png": "[encoded data removed]",
      "text/plain": [
       "<Figure size 640x480 with 1 Axes>"
      ]
     },
     "metadata": {},
     "output_type": "display_data"
    }
   ],
   "source": [
    "import matplotlib.pyplot as plt\n",
    "# Plot the training and validation loss values\n",
    "plt.plot(history.history['loss'])\n",
    "plt.plot(history.history['val_loss'])\n",
    "plt.title('Model training loss')\n",
    "plt.ylabel('Loss')\n",
    "plt.xlabel('Epoch')\n",
    "plt.legend(['Train', 'Validation'], loc='upper right')\n",
    "plt.show()"
   ]
  },
  {
   "cell_type": "code",
   "execution_count": 15,
   "id": "e942d1a4",
   "metadata": {},
   "outputs": [
    {
     "name": "stdout",
     "output_type": "stream",
     "text": [
      "5/5 [==============================] - 0s 2ms/step - loss: 17.7912 - mae: 2.6596\n",
      "Mean squared error on test data:  17.791162490844727\n",
      "Mean absolute error on test data:  2.659621477127075\n"
     ]
    }
   ],
   "source": [
    "#Evaluating Model\n",
    "mse_nn, mae_nn = model.evaluate(X_test, y_test)\n",
    "\n",
    "print('Mean squared error on test data: ', mse_nn)\n",
    "print('Mean absolute error on test data: ', mae_nn)"
   ]
  },
  {
   "cell_type": "code",
   "execution_count": 16,
   "id": "7eaa3358",
   "metadata": {},
   "outputs": [
    {
     "name": "stdout",
     "output_type": "stream",
     "text": [
      "Mean squared error on test data:  28.405854810508224\n",
      "Mean absolute error on test data:  3.691362677116256\n"
     ]
    }
   ],
   "source": [
    "# Comparison with traditional approach\n",
    "from sklearn.linear_model import LinearRegression\n",
    "from sklearn.metrics import mean_squared_error, mean_absolute_error\n",
    "\n",
    "lr_model = LinearRegression()\n",
    "lr_model.fit(X_train, y_train)\n",
    "\n",
    "y_pred_lr = lr_model.predict(X_test)\n",
    "mse_lr = mean_squared_error(y_test, y_pred_lr)\n",
    "mae_lr = mean_absolute_error(y_test, y_pred_lr)\n",
    "\n",
    "print('Mean squared error on test data: ', mse_lr)\n",
    "print('Mean absolute error on test data: ', mae_lr)"
   ]
  },
  {
   "cell_type": "code",
   "execution_count": null,
   "id": "c929e503",
   "metadata": {},
   "outputs": [],
   "source": []
  }
 ],
 "metadata": {
  "kernelspec": {
   "display_name": "Python 3 (ipykernel)",
   "language": "python",
   "name": "python3"
  },
  "language_info": {
   "codemirror_mode": {
    "name": "ipython",
    "version": 3
   },
   "file_extension": ".py",
   "mimetype": "text/x-python",
   "name": "python",
   "nbconvert_exporter": "python",
   "pygments_lexer": "ipython3",
   "version": "3.10.2"
  }
 },
 "nbformat": 4,
 "nbformat_minor": 5
}
